{
 "cells": [
  {
   "cell_type": "code",
   "execution_count": 18,
   "id": "d835cfb4",
   "metadata": {},
   "outputs": [
    {
     "name": "stdout",
     "output_type": "stream",
     "text": [
      "\t HASIL KONVERSI MENIT\n",
      "-------------------------------------\n",
      " \n",
      "Data Inputan: 3 minggu 3 hari 7 jam 21 menit\n",
      "Hasil Konversi: 35001\n",
      "\n",
      "Data Inputan: 5 minggu 5 hari 8 jam 11 menit\n",
      "Hasil Konversi: 58091\n",
      "\n",
      "Data Inputan: 7 minggu 1 hari 5 jam 33 menit\n",
      "Hasil Konversi: 72333\n",
      "\n",
      "[35001, 58091, 72333]\n"
     ]
    }
   ],
   "source": [
    "def konversi(minggu, hari, jam, menit):\n",
    "    return minggu * 7 * 24 * 60 + hari * 24 * 60 + jam * 60 + menit\n",
    "\n",
    "def proses_input_data(data):\n",
    "    def pecah_data(item):\n",
    "        return item.split()\n",
    "\n",
    "    def ekstrak_nilai(komponen):\n",
    "        minggu = int(komponen[0])\n",
    "        hari = int(komponen[2])\n",
    "        jam = int(komponen[4])\n",
    "        menit = int(komponen[6])\n",
    "        return minggu, hari, jam, menit\n",
    "\n",
    "    def konversi_menit(item):\n",
    "        komponen = pecah_data(item)\n",
    "        minggu, hari, jam, menit = ekstrak_nilai(komponen)\n",
    "        return konversi(minggu, hari, jam, menit)\n",
    "\n",
    "    return list(map(konversi_menit, data))\n",
    "\n",
    "data = [\"3 minggu 3 hari 7 jam 21 menit\", \n",
    "        \"5 minggu 5 hari 8 jam 11 menit\", \n",
    "        \"7 minggu 1 hari 5 jam 33 menit\"]\n",
    "\n",
    "output_data = proses_input_data(data)\n",
    "\n",
    "print(\"\\t HASIL KONVERSI MENIT\")\n",
    "print(\"-------------------------------------\")\n",
    "print(\" \")\n",
    "for i in range(len(data)):\n",
    "    print(\"Data Inputan:\", data[i])\n",
    "    print(\"Hasil Konversi:\", output_data[i])\n",
    "    print()\n",
    "\n",
    "print(output_data)"
   ]
  },
  {
   "cell_type": "code",
   "execution_count": null,
   "id": "8a3b5e4b",
   "metadata": {},
   "outputs": [],
   "source": []
  },
  {
   "cell_type": "code",
   "execution_count": null,
   "id": "12523627",
   "metadata": {},
   "outputs": [],
   "source": []
  }
 ],
 "metadata": {
  "kernelspec": {
   "display_name": "Python 3 (ipykernel)",
   "language": "python",
   "name": "python3"
  },
  "language_info": {
   "codemirror_mode": {
    "name": "ipython",
    "version": 3
   },
   "file_extension": ".py",
   "mimetype": "text/x-python",
   "name": "python",
   "nbconvert_exporter": "python",
   "pygments_lexer": "ipython3",
   "version": "3.10.9"
  }
 },
 "nbformat": 4,
 "nbformat_minor": 5
}
