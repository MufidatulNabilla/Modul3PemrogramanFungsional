{
 "cells": [
  {
   "cell_type": "code",
   "execution_count": 12,
   "id": "9fa92483",
   "metadata": {},
   "outputs": [
    {
     "name": "stdout",
     "output_type": "stream",
     "text": [
      "\t NILAI INTEGER DARI DATA\n",
      "-------------------------------------\n",
      " \n",
      "Data Inputan: 3 minggu 3 hari 7 jam 21 menit\n",
      "Nilai Data Integer: ['3', '3', '7', '21']\n",
      "\n",
      "Data Inputan: 5 minggu 5 hari 8 jam 11 menit\n",
      "Nilai Data Integer: ['5', '5', '8', '11']\n",
      "\n",
      "Data Inputan: 7 minggu 1 hari 5 jam 33 menit\n",
      "Nilai Data Integer: ['7', '1', '5', '33']\n",
      "\n"
     ]
    }
   ],
   "source": [
    "def konversi(minggu, hari, jam, menit):\n",
    "    return minggu * 7 * 24 * 60 + hari * 24 * 60 + jam * 60 + menit\n",
    "\n",
    "def proses_input_data(data):\n",
    "    def pecah_data(item):\n",
    "        return item.split()\n",
    "\n",
    "    def ekstrak_nilai(komponen):\n",
    "        minggu = int(komponen[0])\n",
    "        hari = int(komponen[2])\n",
    "        jam = int(komponen[4])\n",
    "        menit = int(komponen[6])\n",
    "        return minggu, hari, jam, menit\n",
    "\n",
    "    def konversi_menit(item):\n",
    "        komponen = pecah_data(item)\n",
    "        minggu, hari, jam, menit = ekstrak_nilai(komponen)\n",
    "        return konversi(minggu, hari, jam, menit)\n",
    "\n",
    "    return list(map(konversi_menit, data))\n",
    "\n",
    "data = [\"3 minggu 3 hari 7 jam 21 menit\", \n",
    "        \"5 minggu 5 hari 8 jam 11 menit\", \n",
    "        \"7 minggu 1 hari 5 jam 33 menit\"]\n",
    "\n",
    "output_data = proses_input_data(data)\n",
    "\n",
    "def is_integer(char):\n",
    "    return char.isdigit()\n",
    "\n",
    "data_integer = [list(filter(is_integer, item.split())) for item in data]\n",
    "\n",
    "print(\"\\t NILAI INTEGER DARI DATA\")\n",
    "print(\"-------------------------------------\")\n",
    "print(\" \")\n",
    "for item in data_integer:\n",
    "    print(\"Data Inputan:\", data[data_integer.index(item)])\n",
    "    print(\"Nilai Data Integer:\", item)\n",
    "    print()\n"
   ]
  },
  {
   "cell_type": "code",
   "execution_count": null,
   "id": "5b4473a2",
   "metadata": {},
   "outputs": [],
   "source": []
  },
  {
   "cell_type": "code",
   "execution_count": null,
   "id": "22ed6786",
   "metadata": {},
   "outputs": [],
   "source": []
  }
 ],
 "metadata": {
  "kernelspec": {
   "display_name": "Python 3 (ipykernel)",
   "language": "python",
   "name": "python3"
  },
  "language_info": {
   "codemirror_mode": {
    "name": "ipython",
    "version": 3
   },
   "file_extension": ".py",
   "mimetype": "text/x-python",
   "name": "python",
   "nbconvert_exporter": "python",
   "pygments_lexer": "ipython3",
   "version": "3.10.9"
  }
 },
 "nbformat": 4,
 "nbformat_minor": 5
}
