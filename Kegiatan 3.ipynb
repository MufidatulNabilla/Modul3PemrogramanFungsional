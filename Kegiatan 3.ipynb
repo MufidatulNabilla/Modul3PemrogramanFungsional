{
 "cells": [
  {
   "cell_type": "code",
   "execution_count": 2,
   "id": "4a670d9f",
   "metadata": {},
   "outputs": [
    {
     "name": "stdout",
     "output_type": "stream",
     "text": [
      "Data Float:\n",
      "[3.1, 2.7, 5.5]\n",
      "\n",
      "Data Int:\n",
      "{'ratusan': 1, 'puluhan': 0, 'satuan': 5}\n",
      "{'ratusan': 7, 'puluhan': 3, 'satuan': 7}\n",
      "{'ratusan': 4, 'puluhan': 1, 'satuan': 2}\n",
      "\n",
      "Data String:\n",
      "['Hello', 'Python', 'World', 'AI']\n"
     ]
    }
   ],
   "source": [
    "# Data list pada seperti pada Kegiatan 1 Modul 1\n",
    "random_list = [105, 3.1, \"Hello\", 737, \"Python\", 2.7, \"World\", 412, 5.5, \"AI\"]\n",
    "\n",
    "# Filter untuk memisahkan nilai float, int, dan string\n",
    "float_values = list(filter(lambda x: isinstance(x, float), random_list))\n",
    "int_values = list(filter(lambda x: isinstance(x, int), random_list))\n",
    "string_values = list(filter(lambda x: isinstance(x, str), random_list))\n",
    "\n",
    "# Map untuk memetakan nilai int menjadi satuan, puluhan, dan ratusan\n",
    "def map_int_to_units_tens_hundreds(num):\n",
    "    if isinstance(num, int):\n",
    "        units = num % 10\n",
    "        tens = (num // 10) % 10\n",
    "        hundreds = num // 100\n",
    "        return {'ratusan': hundreds, 'puluhan': tens, 'satuan': units}\n",
    "    else:\n",
    "        return num\n",
    "\n",
    "int_mapped = list(map(map_int_to_units_tens_hundreds, int_values))\n",
    "\n",
    "# Output\n",
    "print(\"Data Float:\")\n",
    "print(float_values)\n",
    "print(\"\\nData Int:\")\n",
    "for item in int_mapped:\n",
    "    if isinstance(item, dict):\n",
    "        print(item)\n",
    "print(\"\\nData String:\")\n",
    "print(string_values)"
   ]
  },
  {
   "cell_type": "code",
   "execution_count": null,
   "id": "95fcf177",
   "metadata": {},
   "outputs": [],
   "source": []
  },
  {
   "cell_type": "code",
   "execution_count": null,
   "id": "5e534bff",
   "metadata": {},
   "outputs": [],
   "source": []
  }
 ],
 "metadata": {
  "kernelspec": {
   "display_name": "Python 3 (ipykernel)",
   "language": "python",
   "name": "python3"
  },
  "language_info": {
   "codemirror_mode": {
    "name": "ipython",
    "version": 3
   },
   "file_extension": ".py",
   "mimetype": "text/x-python",
   "name": "python",
   "nbconvert_exporter": "python",
   "pygments_lexer": "ipython3",
   "version": "3.10.9"
  }
 },
 "nbformat": 4,
 "nbformat_minor": 5
}
